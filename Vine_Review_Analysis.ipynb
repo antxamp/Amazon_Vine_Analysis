{
  "nbformat": 4,
  "nbformat_minor": 0,
  "metadata": {
    "colab": {
      "name": "Vine_Review_Analysis.ipynb",
      "provenance": [],
      "collapsed_sections": []
    },
    "kernelspec": {
      "name": "python3",
      "display_name": "Python 3"
    },
    "language_info": {
      "name": "python"
    }
  },
  "cells": [
    {
      "cell_type": "code",
      "metadata": {
        "colab": {
          "base_uri": "https://localhost:8080/"
        },
        "id": "6IyjzMJ4cB8-",
        "outputId": "8a8bf1f1-f219-4585-be46-798263bb269b"
      },
      "source": [
        "import os\n",
        "# Find the latest version of spark 2.0  from http://www-us.apache.org/dist/spark/ and enter as the spark version\n",
        "# For example:\n",
        "spark_version = 'spark-3.1.2'\n",
        "# spark_version = 'spark-3.0.1'\n",
        "os.environ['SPARK_VERSION']=spark_version\n",
        "\n",
        "# Install Spark and Java\n",
        "!apt-get update\n",
        "!apt-get install openjdk-11-jdk-headless -qq > /dev/null\n",
        "!wget -q http://www-us.apache.org/dist/spark/$SPARK_VERSION/$SPARK_VERSION-bin-hadoop2.7.tgz\n",
        "!tar xf $SPARK_VERSION-bin-hadoop2.7.tgz\n",
        "!pip install -q findspark\n",
        "\n",
        "# Set Environment Variables\n",
        "import os\n",
        "os.environ[\"JAVA_HOME\"] = \"/usr/lib/jvm/java-11-openjdk-amd64\"\n",
        "os.environ[\"SPARK_HOME\"] = f\"/content/{spark_version}-bin-hadoop2.7\"\n",
        "\n",
        "# Start a SparkSession\n",
        "import findspark\n",
        "findspark.init()"
      ],
      "execution_count": 1,
      "outputs": [
        {
          "output_type": "stream",
          "text": [
            "Get:1 http://security.ubuntu.com/ubuntu bionic-security InRelease [88.7 kB]\n",
            "Get:2 https://cloud.r-project.org/bin/linux/ubuntu bionic-cran40/ InRelease [3,626 B]\n",
            "Ign:3 https://developer.download.nvidia.com/compute/cuda/repos/ubuntu1804/x86_64  InRelease\n",
            "Get:4 http://ppa.launchpad.net/c2d4u.team/c2d4u4.0+/ubuntu bionic InRelease [15.9 kB]\n",
            "Ign:5 https://developer.download.nvidia.com/compute/machine-learning/repos/ubuntu1804/x86_64  InRelease\n",
            "Hit:6 http://archive.ubuntu.com/ubuntu bionic InRelease\n",
            "Get:7 https://developer.download.nvidia.com/compute/cuda/repos/ubuntu1804/x86_64  Release [697 B]\n",
            "Hit:8 https://developer.download.nvidia.com/compute/machine-learning/repos/ubuntu1804/x86_64  Release\n",
            "Get:9 https://developer.download.nvidia.com/compute/cuda/repos/ubuntu1804/x86_64  Release.gpg [836 B]\n",
            "Get:10 http://archive.ubuntu.com/ubuntu bionic-updates InRelease [88.7 kB]\n",
            "Hit:11 http://ppa.launchpad.net/cran/libgit2/ubuntu bionic InRelease\n",
            "Get:12 http://security.ubuntu.com/ubuntu bionic-security/restricted amd64 Packages [473 kB]\n",
            "Get:13 http://archive.ubuntu.com/ubuntu bionic-backports InRelease [74.6 kB]\n",
            "Get:14 http://security.ubuntu.com/ubuntu bionic-security/main amd64 Packages [2,221 kB]\n",
            "Get:15 http://ppa.launchpad.net/deadsnakes/ppa/ubuntu bionic InRelease [15.9 kB]\n",
            "Get:16 http://security.ubuntu.com/ubuntu bionic-security/universe amd64 Packages [1,418 kB]\n",
            "Get:17 http://ppa.launchpad.net/graphics-drivers/ppa/ubuntu bionic InRelease [21.3 kB]\n",
            "Ign:19 https://developer.download.nvidia.com/compute/cuda/repos/ubuntu1804/x86_64  Packages\n",
            "Get:19 https://developer.download.nvidia.com/compute/cuda/repos/ubuntu1804/x86_64  Packages [637 kB]\n",
            "Get:20 http://ppa.launchpad.net/c2d4u.team/c2d4u4.0+/ubuntu bionic/main Sources [1,780 kB]\n",
            "Get:21 http://archive.ubuntu.com/ubuntu bionic-updates/main amd64 Packages [2,657 kB]\n",
            "Get:22 http://ppa.launchpad.net/c2d4u.team/c2d4u4.0+/ubuntu bionic/main amd64 Packages [910 kB]\n",
            "Get:23 http://archive.ubuntu.com/ubuntu bionic-updates/universe amd64 Packages [2,188 kB]\n",
            "Get:24 http://archive.ubuntu.com/ubuntu bionic-updates/restricted amd64 Packages [506 kB]\n",
            "Get:25 http://ppa.launchpad.net/deadsnakes/ppa/ubuntu bionic/main amd64 Packages [40.8 kB]\n",
            "Get:26 http://ppa.launchpad.net/graphics-drivers/ppa/ubuntu bionic/main amd64 Packages [41.5 kB]\n",
            "Fetched 13.2 MB in 4s (3,114 kB/s)\n",
            "Reading package lists... Done\n"
          ],
          "name": "stdout"
        }
      ]
    },
    {
      "cell_type": "code",
      "metadata": {
        "id": "jM-0VCpycDdG"
      },
      "source": [
        "from pyspark.sql import SparkSession\n",
        "spark = SparkSession.builder.appName(\"BigData-Challenge\").config(\"spark.driver.extraClassPath\",\"/content/postgresql-42.2.16.jar\").getOrCreate()"
      ],
      "execution_count": 2,
      "outputs": []
    },
    {
      "cell_type": "code",
      "metadata": {
        "colab": {
          "base_uri": "https://localhost:8080/"
        },
        "id": "QT9_OabPcPQb",
        "outputId": "a6fb9fd0-89f5-464d-eba7-3039cc384185"
      },
      "source": [
        "from pyspark import SparkFiles\n",
        "url = \"https://s3.amazonaws.com/amazon-reviews-pds/tsv/amazon_reviews_us_Office_Products_v1_00.tsv.gz\"\n",
        "spark.sparkContext.addFile(url)\n",
        "office_df = spark.read.option(\"encoding\", \"UTF-8\").csv(SparkFiles.get(\"\"), sep=\"\\t\", header=True, inferSchema=True)\n",
        "office_df.show()"
      ],
      "execution_count": 3,
      "outputs": [
        {
          "output_type": "stream",
          "text": [
            "+-----------+-----------+--------------+----------+--------------+--------------------+----------------+-----------+-------------+-----------+----+-----------------+--------------------+--------------------+-----------+\n",
            "|marketplace|customer_id|     review_id|product_id|product_parent|       product_title|product_category|star_rating|helpful_votes|total_votes|vine|verified_purchase|     review_headline|         review_body|review_date|\n",
            "+-----------+-----------+--------------+----------+--------------+--------------------+----------------+-----------+-------------+-----------+----+-----------------+--------------------+--------------------+-----------+\n",
            "|         US|   43081963|R18RVCKGH1SSI9|B001BM2MAC|     307809868|Scotch Cushion Wr...| Office Products|          5|            0|          0|   N|                Y|          Five Stars|      Great product.| 2015-08-31|\n",
            "|         US|   10951564|R3L4L6LW1PUOFY|B00DZYEXPQ|      75004341|Dust-Off Compress...| Office Products|          5|            0|          1|   N|                Y|Phffffffft, Phfff...|What's to say abo...| 2015-08-31|\n",
            "|         US|   21143145|R2J8AWXWTDX2TF|B00RTMUHDW|     529689027|Amram Tagger Stan...| Office Products|          5|            0|          0|   N|                Y|but I am sure I w...|Haven't used yet,...| 2015-08-31|\n",
            "|         US|   52782374|R1PR37BR7G3M6A|B00D7H8XB6|     868449945|AmazonBasics 12-S...| Office Products|          1|            2|          3|   N|                Y|and the shredder ...|Although this was...| 2015-08-31|\n",
            "|         US|   24045652|R3BDDDZMZBZDPU|B001XCWP34|      33521401|Derwent Colored P...| Office Products|          4|            0|          0|   N|                Y|          Four Stars|Gorgeous colors a...| 2015-08-31|\n",
            "|         US|   21751234| R8T6MO75ND212|B004J2NBCO|     214932869|Quartet Magnetic ...| Office Products|          5|            0|          0|   N|                Y|          Five Stars|Perfect for plann...| 2015-08-31|\n",
            "|         US|    9109358|R2YWMQT2V11XYZ|B00MOPAG8K|     863351797|KITLEX40X2592UNV2...| Office Products|          5|            0|          0|   N|                N|          Five Stars|Gold plated fuser...| 2015-08-31|\n",
            "|         US|    9967215|R1V2HYL6OI9V39|B003AHIK7U|     383470576|Bible Dry Highlig...| Office Products|          5|            6|          6|   N|                Y|Won't bleed throu...|I have used these...| 2015-08-31|\n",
            "|         US|   11234247|R3BLQBKUNXGFS4|B006TKH2RO|     999128878|Parker Ingenuity ...| Office Products|          5|            0|          0|   N|                Y|           Nice pen!|Heavy pen that wr...| 2015-08-31|\n",
            "|         US|   12731488|R17MOWJCAR9Y8Q|B00W61M9K0|     622066861| RFID Card Protector| Office Products|          5|            0|          0|   N|                Y| Credit card sleeves|Not sure if they ...| 2015-08-31|\n",
            "|         US|   49861762|R11EPG1GHOXMGB|B00BXOGI3A|     688569009|The Original Stan...| Office Products|          4|            0|          0|   N|                N|          Four Stars|Great product for...| 2015-08-31|\n",
            "|         US|    1541556|R2797NKTEX5THN|B0018RHWGE|     513803406|Zebra Sparky-1 WK...| Office Products|          5|            0|          0|   N|                Y|Love these highli...|Love these highli...| 2015-08-31|\n",
            "|         US|   10579374|R2RUTMJS50E4WF|B00IA8H2OG|     201212366|E-Z Ink (TM) Comp...| Office Products|          5|            0|          0|   N|                Y|          Five Stars|Received on time,...| 2015-08-31|\n",
            "|         US|   43622307|R1FZYL1HX7O4RM|B007TOIA66|     954138793|Eric 11\" Giant Si...| Office Products|          1|            0|          0|   N|                Y|            One Star|worked about a mo...| 2015-08-31|\n",
            "|         US|   50773856|R22ENT0KU5CHPX|B00EANURCE|      43216076|Brother MFCJ450 W...| Office Products|          5|            0|          0|   N|                Y|Brothers Wireless...|I purchased this ...| 2015-08-31|\n",
            "|         US|   10165223|R2E5M7FWJC9JLE|B00T3Q0EOO|     637096152|Clarity D613 DECT...| Office Products|          5|            0|          0|   N|                Y|          Five Stars|Everything works ...| 2015-08-31|\n",
            "|         US|   14744748|R31BNW3O2Q5J3E|B00WN0N818|     710040412|Permo 50 Feet Whi...| Office Products|          5|            0|          0|   N|                Y|          Five Stars|          Thank you!| 2015-08-31|\n",
            "|         US|   37536631|R1JMQF1OOMNF49|B001GAOTSW|     696023182|Pilot G2 Retracta...| Office Products|          5|            0|          0|   N|                Y|          Five Stars|     Love these pens| 2015-08-31|\n",
            "|         US|     126687| RJH6WQDOA6CZP|B003BNY7PW|     474277918|AT&T DECT 6.0 Acc...| Office Products|          5|            0|          0|   N|                Y|          Five Stars|The product is ev...| 2015-08-31|\n",
            "|         US|   31130095|R2EVL0Z5JVV86X|B00092RJX0|     887474295|Pilot G2 Retracta...| Office Products|          5|            0|          0|   N|                Y|          Five Stars|           Great buy| 2015-08-31|\n",
            "+-----------+-----------+--------------+----------+--------------+--------------------+----------------+-----------+-------------+-----------+----+-----------------+--------------------+--------------------+-----------+\n",
            "only showing top 20 rows\n",
            "\n"
          ],
          "name": "stdout"
        }
      ]
    },
    {
      "cell_type": "code",
      "metadata": {
        "id": "-cIIVYkNhn4r"
      },
      "source": [
        "from pyspark.sql.functions import to_date\n",
        "# Read in the Review dataset as a DataFrame"
      ],
      "execution_count": 14,
      "outputs": []
    },
    {
      "cell_type": "code",
      "metadata": {
        "colab": {
          "base_uri": "https://localhost:8080/"
        },
        "id": "snOGx32_hn2v",
        "outputId": "70407d23-fb3e-49c4-998a-023d5c49cc9d"
      },
      "source": [
        "# Create the customers_table DataFrame\n",
        "customers_df = office_df.groupby(\"customer_id\").agg({\"customer_id\":\"count\"}).withColumnRenamed(\"count(customer_id)\", \"customer_count\")\n",
        "customers_df.show()"
      ],
      "execution_count": 15,
      "outputs": [
        {
          "output_type": "stream",
          "text": [
            "+-----------+--------------+\n",
            "|customer_id|customer_count|\n",
            "+-----------+--------------+\n",
            "|   43622307|             1|\n",
            "|   33972406|             1|\n",
            "|     108460|             1|\n",
            "|   43515569|             1|\n",
            "|     132406|             1|\n",
            "|   42560427|             1|\n",
            "|    1673863|             2|\n",
            "|   14552054|             1|\n",
            "|   45632184|             1|\n",
            "|   14703850|             2|\n",
            "|   35768925|             3|\n",
            "|   45640757|            28|\n",
            "|   33194403|             1|\n",
            "|   39383689|             1|\n",
            "|   10645124|             1|\n",
            "|   52512151|            10|\n",
            "|   14646714|             1|\n",
            "|   38659596|             1|\n",
            "|   15634680|             1|\n",
            "|   44178035|             1|\n",
            "+-----------+--------------+\n",
            "only showing top 20 rows\n",
            "\n"
          ],
          "name": "stdout"
        }
      ]
    },
    {
      "cell_type": "code",
      "metadata": {
        "colab": {
          "base_uri": "https://localhost:8080/"
        },
        "id": "B_BFND2Sh5yP",
        "outputId": "99804e91-6a96-4a75-cd42-21f9fd1c1e68"
      },
      "source": [
        "# Create the products_table DataFrame and drop duplicates. \n",
        "products_df = office_df.select([\"product_id\",\"product_title\"]).drop_duplicates()\n",
        "products_df.show()"
      ],
      "execution_count": 16,
      "outputs": [
        {
          "output_type": "stream",
          "text": [
            "+----------+--------------------+\n",
            "|product_id|       product_title|\n",
            "+----------+--------------------+\n",
            "|B00PITWBPA|Teacher Lesson Pl...|\n",
            "|B0038ZTDGQ|        LINKYO TN650|\n",
            "|B0028N6PSI|Mead Composition ...|\n",
            "|B001IZX8AA|Generic DR400 and...|\n",
            "|B010B1ROR4|Viz-pro Double-si...|\n",
            "|B00WT9IDPE|AIM Compatible Re...|\n",
            "|B003ZZUKPC|HTS 262B1 1,000 P...|\n",
            "|B00NQ3UB34|Plush Cute Genuin...|\n",
            "|B00JFOJ7PG|BIC Kids Pencil -...|\n",
            "|B000AN1Q64|Pendaflex Hanging...|\n",
            "|B00X5G94G2|Elmer's Freestyle...|\n",
            "|B000BV0AYY|Canon PGI-5 BK 06...|\n",
            "|B00SKO1E8A|No Trespassing We...|\n",
            "|B00JXQR1ZY|KeySmart Extended...|\n",
            "|B002OJN3VI|1 Pack. Refurbish...|\n",
            "|B004OA6X6C|VTech LS6405 Acce...|\n",
            "|B002FPQBEM|ENGLISH US LARGE ...|\n",
            "|B002PIWE18|3 Mil 4x6 Photo L...|\n",
            "|B000A2BJR6|Canon CLI-8 Ink Tank|\n",
            "|B0006HVJ3Y|Highland Notes, Y...|\n",
            "+----------+--------------------+\n",
            "only showing top 20 rows\n",
            "\n"
          ],
          "name": "stdout"
        }
      ]
    },
    {
      "cell_type": "code",
      "metadata": {
        "colab": {
          "base_uri": "https://localhost:8080/"
        },
        "id": "pH_brgf3h8TP",
        "outputId": "975f528c-efe0-4a4f-e20b-cbdf6e8d98ac"
      },
      "source": [
        "# Create the review_id_table DataFrame. \n",
        "# Convert the 'review_date' column to a date datatype with to_date(\"review_date\", 'yyyy-MM-dd').alias(\"review_date\")\n",
        "review_id_df = office_df.select([\"review_id\",\"customer_id\",\"product_id\",\"product_parent\", to_date(\"review_date\", 'yyyy-MM-dd').alias(\"review_date\")])\n",
        "review_id_df.show()"
      ],
      "execution_count": 17,
      "outputs": [
        {
          "output_type": "stream",
          "text": [
            "+--------------+-----------+----------+--------------+-----------+\n",
            "|     review_id|customer_id|product_id|product_parent|review_date|\n",
            "+--------------+-----------+----------+--------------+-----------+\n",
            "|R18RVCKGH1SSI9|   43081963|B001BM2MAC|     307809868| 2015-08-31|\n",
            "|R3L4L6LW1PUOFY|   10951564|B00DZYEXPQ|      75004341| 2015-08-31|\n",
            "|R2J8AWXWTDX2TF|   21143145|B00RTMUHDW|     529689027| 2015-08-31|\n",
            "|R1PR37BR7G3M6A|   52782374|B00D7H8XB6|     868449945| 2015-08-31|\n",
            "|R3BDDDZMZBZDPU|   24045652|B001XCWP34|      33521401| 2015-08-31|\n",
            "| R8T6MO75ND212|   21751234|B004J2NBCO|     214932869| 2015-08-31|\n",
            "|R2YWMQT2V11XYZ|    9109358|B00MOPAG8K|     863351797| 2015-08-31|\n",
            "|R1V2HYL6OI9V39|    9967215|B003AHIK7U|     383470576| 2015-08-31|\n",
            "|R3BLQBKUNXGFS4|   11234247|B006TKH2RO|     999128878| 2015-08-31|\n",
            "|R17MOWJCAR9Y8Q|   12731488|B00W61M9K0|     622066861| 2015-08-31|\n",
            "|R11EPG1GHOXMGB|   49861762|B00BXOGI3A|     688569009| 2015-08-31|\n",
            "|R2797NKTEX5THN|    1541556|B0018RHWGE|     513803406| 2015-08-31|\n",
            "|R2RUTMJS50E4WF|   10579374|B00IA8H2OG|     201212366| 2015-08-31|\n",
            "|R1FZYL1HX7O4RM|   43622307|B007TOIA66|     954138793| 2015-08-31|\n",
            "|R22ENT0KU5CHPX|   50773856|B00EANURCE|      43216076| 2015-08-31|\n",
            "|R2E5M7FWJC9JLE|   10165223|B00T3Q0EOO|     637096152| 2015-08-31|\n",
            "|R31BNW3O2Q5J3E|   14744748|B00WN0N818|     710040412| 2015-08-31|\n",
            "|R1JMQF1OOMNF49|   37536631|B001GAOTSW|     696023182| 2015-08-31|\n",
            "| RJH6WQDOA6CZP|     126687|B003BNY7PW|     474277918| 2015-08-31|\n",
            "|R2EVL0Z5JVV86X|   31130095|B00092RJX0|     887474295| 2015-08-31|\n",
            "+--------------+-----------+----------+--------------+-----------+\n",
            "only showing top 20 rows\n",
            "\n"
          ],
          "name": "stdout"
        }
      ]
    },
    {
      "cell_type": "code",
      "metadata": {
        "colab": {
          "base_uri": "https://localhost:8080/"
        },
        "id": "9potMLmDh8R-",
        "outputId": "da99a3b3-19f9-46ca-c7a4-e326f772dfff"
      },
      "source": [
        "# Create the vine_table. DataFrame\n",
        "from pyspark.sql.types import IntegerType\n",
        "vine_df = office_df.select([\"review_id\",\"star_rating\",\"helpful_votes\",\"total_votes\",\"vine\",\"verified_purchase\"])\n",
        "vine_df = vine_df.withColumn(\"star_rating\",vine_df[\"star_rating\"].cast(IntegerType()))\n",
        "vine_df.show()"
      ],
      "execution_count": 18,
      "outputs": [
        {
          "output_type": "stream",
          "text": [
            "+--------------+-----------+-------------+-----------+----+-----------------+\n",
            "|     review_id|star_rating|helpful_votes|total_votes|vine|verified_purchase|\n",
            "+--------------+-----------+-------------+-----------+----+-----------------+\n",
            "|R18RVCKGH1SSI9|          5|            0|          0|   N|                Y|\n",
            "|R3L4L6LW1PUOFY|          5|            0|          1|   N|                Y|\n",
            "|R2J8AWXWTDX2TF|          5|            0|          0|   N|                Y|\n",
            "|R1PR37BR7G3M6A|          1|            2|          3|   N|                Y|\n",
            "|R3BDDDZMZBZDPU|          4|            0|          0|   N|                Y|\n",
            "| R8T6MO75ND212|          5|            0|          0|   N|                Y|\n",
            "|R2YWMQT2V11XYZ|          5|            0|          0|   N|                N|\n",
            "|R1V2HYL6OI9V39|          5|            6|          6|   N|                Y|\n",
            "|R3BLQBKUNXGFS4|          5|            0|          0|   N|                Y|\n",
            "|R17MOWJCAR9Y8Q|          5|            0|          0|   N|                Y|\n",
            "|R11EPG1GHOXMGB|          4|            0|          0|   N|                N|\n",
            "|R2797NKTEX5THN|          5|            0|          0|   N|                Y|\n",
            "|R2RUTMJS50E4WF|          5|            0|          0|   N|                Y|\n",
            "|R1FZYL1HX7O4RM|          1|            0|          0|   N|                Y|\n",
            "|R22ENT0KU5CHPX|          5|            0|          0|   N|                Y|\n",
            "|R2E5M7FWJC9JLE|          5|            0|          0|   N|                Y|\n",
            "|R31BNW3O2Q5J3E|          5|            0|          0|   N|                Y|\n",
            "|R1JMQF1OOMNF49|          5|            0|          0|   N|                Y|\n",
            "| RJH6WQDOA6CZP|          5|            0|          0|   N|                Y|\n",
            "|R2EVL0Z5JVV86X|          5|            0|          0|   N|                Y|\n",
            "+--------------+-----------+-------------+-----------+----+-----------------+\n",
            "only showing top 20 rows\n",
            "\n"
          ],
          "name": "stdout"
        }
      ]
    },
    {
      "cell_type": "markdown",
      "metadata": {
        "id": "BaJcaq8viLN_"
      },
      "source": [
        "**Deliverable 2: Determine Bias of Vine Reviews** "
      ]
    },
    {
      "cell_type": "code",
      "metadata": {
        "id": "506_A4gbchkE"
      },
      "source": [
        "# Filter the dataset for total_votes being greater than or equal to 20\n",
        "vine_df = office_df.select([\"review_id\",\"star_rating\",\"helpful_votes\",\"total_votes\",\"vine\",\"verified_purchase\"])\n",
        "vote_count = office_df.filter(\"total_votes >= 20\")"
      ],
      "execution_count": 21,
      "outputs": []
    },
    {
      "cell_type": "code",
      "metadata": {
        "colab": {
          "base_uri": "https://localhost:8080/"
        },
        "id": "KA5YdZ8oc1Rd",
        "outputId": "d6ed8693-8c44-4fcf-fe4f-9189bc9ddd03"
      },
      "source": [
        "# Create a new DataFrame or table to retrieve all the rows where the number of helpful_votes divided by total_votes is equal to or greater than 50%.\n",
        "new_table = vote_count.filter(vote_count[\"helpful_votes\"]/vote_count[\"total_votes\"]>=0.5)\n",
        "new_table.show()"
      ],
      "execution_count": 22,
      "outputs": [
        {
          "output_type": "stream",
          "text": [
            "+-----------+-----------+--------------+----------+--------------+--------------------+----------------+-----------+-------------+-----------+----+-----------------+--------------------+--------------------+-----------+\n",
            "|marketplace|customer_id|     review_id|product_id|product_parent|       product_title|product_category|star_rating|helpful_votes|total_votes|vine|verified_purchase|     review_headline|         review_body|review_date|\n",
            "+-----------+-----------+--------------+----------+--------------+--------------------+----------------+-----------+-------------+-----------+----+-----------------+--------------------+--------------------+-----------+\n",
            "|         US|   11212836|R243UXMMSSZVS6|B00C2MBMNS|     934393421|Lion 2-Pocket Pla...| Office Products|          2|          254|        254|   N|                Y|      Disappointing!|We ordered about ...| 2015-08-31|\n",
            "|         US|   23384746|R2P92EHR0S5GBB|B00C47U5OI|     712795023|24pcs Vitamin pil...| Office Products|          1|          110|        159|   N|                Y|    Screw these guys|I bought these pe...| 2015-08-31|\n",
            "|         US|   45671936| RN93Z4XPNAANY|B001E6C9AS|     353412942|uni-ball Vision E...| Office Products|          5|           31|         31|   N|                Y|              Great!|Got these to take...| 2015-08-31|\n",
            "|         US|   52607844|R1O74T9XO3OPQ4|B00HH32CWW|     441615697|Stabilo Point 68 ...| Office Products|          5|           38|         38|   N|                Y|Both sizes work g...|I had the set of ...| 2015-08-31|\n",
            "|         US|    2640608|R3DMIHE5BMUT0R|B00M1VVWWQ|     538874514|bloom daily plann...| Office Products|          3|           21|         21|   N|                Y|It's almost perfe...|It's almost perfe...| 2015-08-31|\n",
            "|         US|   12887293|R1QWY17NLHQSB5|B001B0BBTW|     781645909|3M Easy Adjust Ke...| Office Products|          5|           36|         36|   N|                Y|Holy smokes Batma...|Lets start with s...| 2015-08-31|\n",
            "|         US|    1718619|R3LANI678T2YQS|B011K7O1HE|     385920359|Gel Pens by Color...| Office Products|          5|           39|         47|   N|                N|BEST VALUE AND QU...|What can I say, t...| 2015-08-31|\n",
            "|         US|   24177974| RLV4XQ49EBYYU|B0095FFUM4|     929613269|Leuchtturm1917 Ha...| Office Products|          1|           56|         65|   N|                Y|       Disappointed.|I bought this hop...| 2015-08-31|\n",
            "|         US|   27911354| RPBPAJKFD0T26|B00XLZP150|     398453199|Thornton's Art Su...| Office Products|          5|           63|         63|   N|                Y|This is a great s...|This is a great s...| 2015-08-31|\n",
            "|         US|   35558106|R1IHO8C56KBN6C|B000086BB1|     788110326|Day-Timer Distres...| Office Products|          1|           61|         64|   N|                Y|Picture of inside...|The inside of thi...| 2015-08-31|\n",
            "|         US|   19761939|R3HZT0MTHYQBU7|B003OCU53S|     593444757|Five Star Pocket ...| Office Products|          1|          221|        221|   N|                Y|I was mislead and...|I was mislead and...| 2015-08-31|\n",
            "|         US|   39647081|R1M9644S4471JU|B013HO4OR0|     831445994|The Pencil Grip K...| Office Products|          5|           20|         20|   N|                Y|It's about time s...|Kwik Stix are ama...| 2015-08-31|\n",
            "|         US|   10917581| R6FPJVAWQ472P|B005IXSXPI|     528615429|Tabletote Plus Po...| Office Products|          5|           33|         34|   N|                Y|Good purchase, ha...|This actually tur...| 2015-08-31|\n",
            "|         US|   43833151| RYQ3KOWJLYPWW|B00PV55FZO|      12118092|720P LED LCD Vide...| Office Products|          4|           19|         20|   N|                Y|Was Skeptical But...|I spent a ton of ...| 2015-08-31|\n",
            "|         US|   43212433|R2J6UYRU7AX8NS|B00T0ZG06O|      41392551|Neo2 Alphasmart W...| Office Products|          5|           23|         24|   N|                Y|          Sweet buy!|As a writer I fou...| 2015-08-31|\n",
            "|         US|    8365945|R32Y1KGXWPHEVP|B00P32EURE|     291018948|RuiChy London Sty...| Office Products|          5|           44|         44|   N|                N|It's seemed a bit...|It's seemed a bit...| 2015-08-31|\n",
            "|         US|    3509589|R3M14RO30UBS32|B00JN2LKRI|     921502629|Vintage Retro Lea...| Office Products|          2|           22|         30|   N|                Y|           Two Stars|It wasnt what i e...| 2015-08-31|\n",
            "|         US|   51042716|R1FJ1LLYMAIINJ|B00006HUP7|     659087223|Avery Clear Full-...| Office Products|          2|           27|         28|   N|                Y|Buyer Beware - NO...|Whilst I should h...| 2015-08-31|\n",
            "|         US|   13217662| RB32OZDWJ1MXB|B00U7XXKGQ|     429264839|JAM Paper Plastic...| Office Products|          1|          161|        170|   N|                Y| False advertisement|My daughter neede...| 2015-08-31|\n",
            "|         US|   40207865|R1O5FVFCO6MEWX|B00NNVDPUK|     243059880|Canon MAXIFY MB23...| Office Products|          1|           41|         42|   N|                Y|Ink Is Used When ...|This is a followu...| 2015-08-31|\n",
            "+-----------+-----------+--------------+----------+--------------+--------------------+----------------+-----------+-------------+-----------+----+-----------------+--------------------+--------------------+-----------+\n",
            "only showing top 20 rows\n",
            "\n"
          ],
          "name": "stdout"
        }
      ]
    },
    {
      "cell_type": "code",
      "metadata": {
        "colab": {
          "base_uri": "https://localhost:8080/"
        },
        "id": "mMmPCBzvdGsI",
        "outputId": "e674686f-57c7-4e0f-82e7-778fc8e094f7"
      },
      "source": [
        "# Create a new DataFrame or table that retrieves all the rows where a review was written as part of the Vine program (paid), vine == 'Y'\n",
        "new_table.filter(new_table[\"vine\"] == \"Y\").show()"
      ],
      "execution_count": 23,
      "outputs": [
        {
          "output_type": "stream",
          "text": [
            "+-----------+-----------+--------------+----------+--------------+--------------------+----------------+-----------+-------------+-----------+----+-----------------+--------------------+--------------------+-----------+\n",
            "|marketplace|customer_id|     review_id|product_id|product_parent|       product_title|product_category|star_rating|helpful_votes|total_votes|vine|verified_purchase|     review_headline|         review_body|review_date|\n",
            "+-----------+-----------+--------------+----------+--------------+--------------------+----------------+-----------+-------------+-----------+----+-----------------+--------------------+--------------------+-----------+\n",
            "|         US|   35360512|R3JIGR122X50ZV|B00ZI7MI96|     592756103|Scotch Thermal La...| Office Products|          5|         2280|       2314|   Y|                N|Here’s what’s REA...|You’re reading th...| 2015-08-21|\n",
            "|         US|   50120605|R3KV8P8WLD2KKC|B00ZI7MI96|     592756103|Scotch Thermal La...| Office Products|          5|          263|        286|   Y|                N|WOW...what amazin...|We previously had...| 2015-08-16|\n",
            "|         US|   43681584|R2LFY2ZPJ3J7RH|B007YK2RUK|      56475266|V-LIGHT Desk Lamp...| Office Products|          4|           36|         38|   Y|                N|Bulky head unit b...|I was tempted to ...| 2015-07-29|\n",
            "|         US|   53017806|R3P01OXMA0U0CA|B007YK2RUK|      56475266|V-LIGHT Desk Lamp...| Office Products|          5|          114|        117|   Y|                N|A very helpful de...|[[VIDEOID:c5c292f...| 2015-07-27|\n",
            "|         US|   51327523|R2SCMXBD9OQP8Z|B00X7X2QQI|     803423706|Five Star Advance...| Office Products|          2|           22|         26|   Y|                N| Didn't last long...|Of course, it's b...| 2015-07-26|\n",
            "|         US|   53032539|R2FGS9ECOK5IQN|B007YK2RUK|      56475266|V-LIGHT Desk Lamp...| Office Products|          5|           22|         23|   Y|                N|           Excellent|Prior to receivin...| 2015-07-23|\n",
            "|         US|   44737123| R1V9CO41XS6QY|B00UV41QQC|     921068319|V-LIGHT Tradition...| Office Products|          2|           56|         58|   Y|                N|A Lamp's Tale in ...|V-LIGHT Tradition...| 2015-07-12|\n",
            "|         US|   45378171|R1LEP1JGXRY2YT|B00UV41QQC|     921068319|V-LIGHT Tradition...| Office Products|          2|           18|         20|   Y|                N|The pieces are ve...|The V-Light Banke...| 2015-07-05|\n",
            "|         US|   53038997|R1ZWQJ3ZBSIZ1K|B00Y4S5KPE|     951212711|DYMO Standard D1 ...| Office Products|          4|           19|         21|   Y|                Y|Cute for specialt...|The reason being ...| 2015-06-29|\n",
            "|         US|   50523018| RX1G4FUE5HZGN|B00SSXQ7Q2|     444212217|Epson Perfection ...| Office Products|          3|           52|         58|   Y|                N|Good for fast sca...|On the whole this...| 2015-06-28|\n",
            "|         US|   50304462|R2V4NC4FH8IF1Y|B00D5WM8EG|     210157851|V-LIGHT Full Spec...| Office Products|          3|           58|         63|   Y|                N|Decent light outp...|I recently starte...| 2015-06-27|\n",
            "|         US|   45984063|R1F1PGV3MEL818|B00S74JAHK|     757662435|HP LaserJet Pro M...| Office Products|          5|          142|        148|   Y|                N|Amazing printer f...|I'm using this as...| 2015-06-24|\n",
            "|         US|   38867531| RFLM1DZ2O0ZE3|B00VUU7KNY|     228352742|Brother MFC-J6925...| Office Products|          4|           39|         39|   Y|                N|Replaced Our Two ...|Initially we had ...| 2015-06-16|\n",
            "|         US|   52702539|R2BYBP0R21WYYC|B00TVACKEE|     636900793|HP LaserJet Pro M...| Office Products|          5|           30|         33|   Y|                N|Easy set up, terr...|Technology is sim...| 2015-06-15|\n",
            "|         US|   50116247|R28T0ZQLIYREBI|B00UHJDFOM|     519079772|Sharpie Extreme P...| Office Products|          5|           45|         47|   Y|                N|for when you need...|I've been using S...| 2015-06-15|\n",
            "|         US|   49598970|R1EEZAMB8BAB4I|B00Q3KG1L8|     211230192|AmazonBasics 17-S...| Office Products|          5|           45|         49|   Y|                N|Works great for h...|This is a solidly...| 2015-06-12|\n",
            "|         US|   21155796|R1MT9QOVCW2NSC|B00Q3KG1L8|     211230192|AmazonBasics 17-S...| Office Products|          5|           21|         24|   Y|                N|Can handle more p...|This is one beast...| 2015-06-06|\n",
            "|         US|   53081110| R3W9PAL4OVHKD|B00SSXQ7Q2|     444212217|Epson Perfection ...| Office Products|          5|           35|         41|   Y|                N|Small, light and ...|This compact, por...| 2015-06-04|\n",
            "|         US|   47030935| R1NMLNZD7JKLY|B00Q3KFX8U|      41274266|AmazonBasics 6-Sh...| Office Products|          5|           40|         44|   Y|                N|Great basic shred...|This is a really ...| 2015-06-03|\n",
            "|         US|   52121067| RZ2TREG2ME3K7|B00PRDN0R0|     544203328|Pop n' Store Deco...| Office Products|          5|           26|         28|   Y|                N|Smaller than it l...|Yes, the measurem...| 2015-06-01|\n",
            "+-----------+-----------+--------------+----------+--------------+--------------------+----------------+-----------+-------------+-----------+----+-----------------+--------------------+--------------------+-----------+\n",
            "only showing top 20 rows\n",
            "\n"
          ],
          "name": "stdout"
        }
      ]
    },
    {
      "cell_type": "code",
      "metadata": {
        "colab": {
          "base_uri": "https://localhost:8080/"
        },
        "id": "Pe2AzjFVdP3m",
        "outputId": "e024e50f-0826-4580-c2fc-fab3d1b58ecd"
      },
      "source": [
        "# Create a new DataFrame or table that retrieves all the rows where a review was written as part of the Vine program (paid), vine == 'N'\n",
        "new_table.filter(new_table[\"vine\"] == \"N\").show()"
      ],
      "execution_count": 24,
      "outputs": [
        {
          "output_type": "stream",
          "text": [
            "+-----------+-----------+--------------+----------+--------------+--------------------+----------------+-----------+-------------+-----------+----+-----------------+--------------------+--------------------+-----------+\n",
            "|marketplace|customer_id|     review_id|product_id|product_parent|       product_title|product_category|star_rating|helpful_votes|total_votes|vine|verified_purchase|     review_headline|         review_body|review_date|\n",
            "+-----------+-----------+--------------+----------+--------------+--------------------+----------------+-----------+-------------+-----------+----+-----------------+--------------------+--------------------+-----------+\n",
            "|         US|   11212836|R243UXMMSSZVS6|B00C2MBMNS|     934393421|Lion 2-Pocket Pla...| Office Products|          2|          254|        254|   N|                Y|      Disappointing!|We ordered about ...| 2015-08-31|\n",
            "|         US|   23384746|R2P92EHR0S5GBB|B00C47U5OI|     712795023|24pcs Vitamin pil...| Office Products|          1|          110|        159|   N|                Y|    Screw these guys|I bought these pe...| 2015-08-31|\n",
            "|         US|   45671936| RN93Z4XPNAANY|B001E6C9AS|     353412942|uni-ball Vision E...| Office Products|          5|           31|         31|   N|                Y|              Great!|Got these to take...| 2015-08-31|\n",
            "|         US|   52607844|R1O74T9XO3OPQ4|B00HH32CWW|     441615697|Stabilo Point 68 ...| Office Products|          5|           38|         38|   N|                Y|Both sizes work g...|I had the set of ...| 2015-08-31|\n",
            "|         US|    2640608|R3DMIHE5BMUT0R|B00M1VVWWQ|     538874514|bloom daily plann...| Office Products|          3|           21|         21|   N|                Y|It's almost perfe...|It's almost perfe...| 2015-08-31|\n",
            "|         US|   12887293|R1QWY17NLHQSB5|B001B0BBTW|     781645909|3M Easy Adjust Ke...| Office Products|          5|           36|         36|   N|                Y|Holy smokes Batma...|Lets start with s...| 2015-08-31|\n",
            "|         US|    1718619|R3LANI678T2YQS|B011K7O1HE|     385920359|Gel Pens by Color...| Office Products|          5|           39|         47|   N|                N|BEST VALUE AND QU...|What can I say, t...| 2015-08-31|\n",
            "|         US|   24177974| RLV4XQ49EBYYU|B0095FFUM4|     929613269|Leuchtturm1917 Ha...| Office Products|          1|           56|         65|   N|                Y|       Disappointed.|I bought this hop...| 2015-08-31|\n",
            "|         US|   27911354| RPBPAJKFD0T26|B00XLZP150|     398453199|Thornton's Art Su...| Office Products|          5|           63|         63|   N|                Y|This is a great s...|This is a great s...| 2015-08-31|\n",
            "|         US|   35558106|R1IHO8C56KBN6C|B000086BB1|     788110326|Day-Timer Distres...| Office Products|          1|           61|         64|   N|                Y|Picture of inside...|The inside of thi...| 2015-08-31|\n",
            "|         US|   19761939|R3HZT0MTHYQBU7|B003OCU53S|     593444757|Five Star Pocket ...| Office Products|          1|          221|        221|   N|                Y|I was mislead and...|I was mislead and...| 2015-08-31|\n",
            "|         US|   39647081|R1M9644S4471JU|B013HO4OR0|     831445994|The Pencil Grip K...| Office Products|          5|           20|         20|   N|                Y|It's about time s...|Kwik Stix are ama...| 2015-08-31|\n",
            "|         US|   10917581| R6FPJVAWQ472P|B005IXSXPI|     528615429|Tabletote Plus Po...| Office Products|          5|           33|         34|   N|                Y|Good purchase, ha...|This actually tur...| 2015-08-31|\n",
            "|         US|   43833151| RYQ3KOWJLYPWW|B00PV55FZO|      12118092|720P LED LCD Vide...| Office Products|          4|           19|         20|   N|                Y|Was Skeptical But...|I spent a ton of ...| 2015-08-31|\n",
            "|         US|   43212433|R2J6UYRU7AX8NS|B00T0ZG06O|      41392551|Neo2 Alphasmart W...| Office Products|          5|           23|         24|   N|                Y|          Sweet buy!|As a writer I fou...| 2015-08-31|\n",
            "|         US|    8365945|R32Y1KGXWPHEVP|B00P32EURE|     291018948|RuiChy London Sty...| Office Products|          5|           44|         44|   N|                N|It's seemed a bit...|It's seemed a bit...| 2015-08-31|\n",
            "|         US|    3509589|R3M14RO30UBS32|B00JN2LKRI|     921502629|Vintage Retro Lea...| Office Products|          2|           22|         30|   N|                Y|           Two Stars|It wasnt what i e...| 2015-08-31|\n",
            "|         US|   51042716|R1FJ1LLYMAIINJ|B00006HUP7|     659087223|Avery Clear Full-...| Office Products|          2|           27|         28|   N|                Y|Buyer Beware - NO...|Whilst I should h...| 2015-08-31|\n",
            "|         US|   13217662| RB32OZDWJ1MXB|B00U7XXKGQ|     429264839|JAM Paper Plastic...| Office Products|          1|          161|        170|   N|                Y| False advertisement|My daughter neede...| 2015-08-31|\n",
            "|         US|   40207865|R1O5FVFCO6MEWX|B00NNVDPUK|     243059880|Canon MAXIFY MB23...| Office Products|          1|           41|         42|   N|                Y|Ink Is Used When ...|This is a followu...| 2015-08-31|\n",
            "+-----------+-----------+--------------+----------+--------------+--------------------+----------------+-----------+-------------+-----------+----+-----------------+--------------------+--------------------+-----------+\n",
            "only showing top 20 rows\n",
            "\n"
          ],
          "name": "stdout"
        }
      ]
    },
    {
      "cell_type": "code",
      "metadata": {
        "colab": {
          "base_uri": "https://localhost:8080/"
        },
        "id": "UT7fXuy5dVJa",
        "outputId": "30c0c4f9-bd37-4414-f435-fad75c81f683"
      },
      "source": [
        "# Number of five star reviews\n",
        "five_star = new_table.filter(new_table[\"star_rating\"]== 5)\n",
        "five_star.cache()"
      ],
      "execution_count": 25,
      "outputs": [
        {
          "output_type": "execute_result",
          "data": {
            "text/plain": [
              "DataFrame[marketplace: string, customer_id: int, review_id: string, product_id: string, product_parent: int, product_title: string, product_category: string, star_rating: string, helpful_votes: int, total_votes: int, vine: string, verified_purchase: string, review_headline: string, review_body: string, review_date: string]"
            ]
          },
          "metadata": {
            "tags": []
          },
          "execution_count": 25
        }
      ]
    },
    {
      "cell_type": "code",
      "metadata": {
        "colab": {
          "base_uri": "https://localhost:8080/"
        },
        "id": "LONYr9vCddUs",
        "outputId": "89e6c6c7-c940-4ee4-a2c8-88ab335eb86e"
      },
      "source": [
        "five_star.count()"
      ],
      "execution_count": 26,
      "outputs": [
        {
          "output_type": "execute_result",
          "data": {
            "text/plain": [
              "19663"
            ]
          },
          "metadata": {
            "tags": []
          },
          "execution_count": 26
        }
      ]
    },
    {
      "cell_type": "code",
      "metadata": {
        "colab": {
          "base_uri": "https://localhost:8080/"
        },
        "id": "ZxTBapRVdf_7",
        "outputId": "6261bb99-744b-4864-8044-8b1f3e6543a0"
      },
      "source": [
        "# Total reviews\n",
        "new_table.count()"
      ],
      "execution_count": 27,
      "outputs": [
        {
          "output_type": "execute_result",
          "data": {
            "text/plain": [
              "44714"
            ]
          },
          "metadata": {
            "tags": []
          },
          "execution_count": 27
        }
      ]
    },
    {
      "cell_type": "code",
      "metadata": {
        "colab": {
          "base_uri": "https://localhost:8080/"
        },
        "id": "LRNJvBvSdmPd",
        "outputId": "bf636150-88f5-4aa1-d0f2-db948e735c4f"
      },
      "source": [
        "# Percentage of five star reviews\n",
        "five_star.count() / new_table.count()"
      ],
      "execution_count": 28,
      "outputs": [
        {
          "output_type": "execute_result",
          "data": {
            "text/plain": [
              "0.43975041374066287"
            ]
          },
          "metadata": {
            "tags": []
          },
          "execution_count": 28
        }
      ]
    },
    {
      "cell_type": "code",
      "metadata": {
        "colab": {
          "base_uri": "https://localhost:8080/"
        },
        "id": "tUuA3OGJdusN",
        "outputId": "1992daac-c1ff-45e8-a3b4-f1cbca62ca18"
      },
      "source": [
        "# Percentage of paid reviews\n",
        "five_star.filter(five_star[\"verified_purchase\"] == \"Y\").count()/new_table.filter(new_table[\"verified_purchase\"]== \"Y\").count()"
      ],
      "execution_count": 29,
      "outputs": [
        {
          "output_type": "execute_result",
          "data": {
            "text/plain": [
              "0.4695371077088852"
            ]
          },
          "metadata": {
            "tags": []
          },
          "execution_count": 29
        }
      ]
    },
    {
      "cell_type": "code",
      "metadata": {
        "colab": {
          "base_uri": "https://localhost:8080/"
        },
        "id": "hi2ec3GqdyR9",
        "outputId": "e960f712-3124-4aa6-83f7-e69128708500"
      },
      "source": [
        "# Percentage of unpaid reviews\n",
        "five_star.filter(five_star[\"verified_purchase\"] == \"N\").count()/new_table.filter(new_table[\"verified_purchase\"]== \"N\").count()"
      ],
      "execution_count": 30,
      "outputs": [
        {
          "output_type": "execute_result",
          "data": {
            "text/plain": [
              "0.4101867118221113"
            ]
          },
          "metadata": {
            "tags": []
          },
          "execution_count": 30
        }
      ]
    },
    {
      "cell_type": "code",
      "metadata": {
        "id": "pkZ6r7yLd9CC"
      },
      "source": [
        ""
      ],
      "execution_count": null,
      "outputs": []
    }
  ]
}